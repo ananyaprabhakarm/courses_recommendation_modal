{
 "cells": [
  {
   "cell_type": "code",
   "execution_count": null,
   "metadata": {},
   "outputs": [],
   "source": [
    "import pandas as pd\n",
    "from sklearn.feature_extraction.text import TfidfVectorizer \n",
    "from sklearn.metrics.pairwise import cosine_similarity\n",
    "from fastapi import FastAPI\n",
    "import uvicorn\n",
    "from sklearn.metrics.pairwise import linear_kernel"
   ]
  },
  {
   "cell_type": "code",
   "execution_count": null,
   "metadata": {},
   "outputs": [],
   "source": [
    "df = pd.read_csv('DataSet.csv')"
   ]
  },
  {
   "cell_type": "code",
   "execution_count": null,
   "metadata": {},
   "outputs": [],
   "source": [
    "app = FastAPI()"
   ]
  },
  {
   "cell_type": "code",
   "execution_count": null,
   "metadata": {},
   "outputs": [],
   "source": [
    "new_df = df.copy()"
   ]
  },
  {
   "cell_type": "code",
   "execution_count": null,
   "metadata": {},
   "outputs": [],
   "source": [
    "new_df['Rating'].fillna(new_df['Rating'].mean(), inplace=True)\n",
    "new_df['Review Count'].fillna(new_df['Review Count'].mean, inplace=True)\n",
    "new_df['Prerequisites'].fillna(\"No Prerequisites Required\",inplace=True)\n",
    "new_df['Affiliates'].fillna(\"None\",inplace=True)\n",
    "new_df['Level'].fillna(\"beginner\",inplace=True)"
   ]
  },
  {
   "cell_type": "code",
   "execution_count": null,
   "metadata": {},
   "outputs": [],
   "source": [
    "new_df.isnull().sum()"
   ]
  },
  {
   "cell_type": "code",
   "execution_count": null,
   "metadata": {},
   "outputs": [],
   "source": [
    "new_df.head()"
   ]
  },
  {
   "cell_type": "code",
   "execution_count": null,
   "metadata": {},
   "outputs": [],
   "source": [
    "new_df_2 = new_df[['Title','Level','Prerequisites','Skills Covered']]\n",
    "new_df_2.head()"
   ]
  },
  {
   "cell_type": "code",
   "execution_count": null,
   "metadata": {},
   "outputs": [],
   "source": [
    "vectorizer = TfidfVectorizer()\n",
    "df_vector = vectorizer.fit_transform(new_df_2)"
   ]
  },
  {
   "cell_type": "code",
   "execution_count": null,
   "metadata": {},
   "outputs": [],
   "source": [
    "similarity = cosine_similarity(df_vector)"
   ]
  },
  {
   "cell_type": "code",
   "execution_count": null,
   "metadata": {},
   "outputs": [],
   "source": [
    "def recommend(user_preferences, new_df_2):\n",
    "  new_df_2['features'] = new_df_2['Title'] + ' ' +  new_df_2['Level'] + ' ' +  new_df_2['Prerequisites'] + ' ' + new_df_2['Skills Covered']\n",
    "  vectorizer = TfidfVectorizer(stop_words='english')\n",
    "  course_matrix = vectorizer.fit_transform(new_df_2['features'])\n",
    "  cosine_similarities = linear_kernel(course_matrix, course_matrix)\n",
    "  user_course_index = new_df_2[new_df_2['Title'] == user_preferences]\n",
    "  similarity_scores = list(enumerate(cosine_similarities[user_course_index]))\n",
    "  sorted_courses = sorted(similarity_scores, key=lambda x: x[1], reverse=True)\n",
    "  top_n_recommendations = [(new_df_2.iloc[idx]['Title'], score) for idx, score in sorted_courses[1:]]\n",
    "  return top_n_recommendations\n",
    "\n",
    "print(recommend('HTML', new_df_2))  \n"
   ]
  },
  {
   "cell_type": "markdown",
   "metadata": {},
   "source": []
  }
 ],
 "metadata": {
  "kernelspec": {
   "display_name": "Python 3",
   "language": "python",
   "name": "python3"
  },
  "language_info": {
   "codemirror_mode": {
    "name": "ipython",
    "version": 3
   },
   "file_extension": ".py",
   "mimetype": "text/x-python",
   "name": "python",
   "nbconvert_exporter": "python",
   "pygments_lexer": "ipython3",
   "version": "3.12.0"
  }
 },
 "nbformat": 4,
 "nbformat_minor": 2
}
