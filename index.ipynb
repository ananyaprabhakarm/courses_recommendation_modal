{
 "cells": [
  {
   "cell_type": "code",
   "execution_count": 16,
   "metadata": {},
   "outputs": [],
   "source": [
    "import pandas as pd\n",
    "from sklearn.feature_extraction.text import TfidfVectorizer \n",
    "from sklearn.metrics.pairwise import cosine_similarity\n",
    "from fastapi import FastAPI\n",
    "from sklearn.metrics.pairwise import linear_kernel"
   ]
  },
  {
   "cell_type": "code",
   "execution_count": 17,
   "metadata": {},
   "outputs": [],
   "source": [
    "df = pd.read_csv('DataSet.csv')"
   ]
  },
  {
   "cell_type": "code",
   "execution_count": 18,
   "metadata": {},
   "outputs": [],
   "source": [
    "app = FastAPI"
   ]
  },
  {
   "cell_type": "code",
   "execution_count": 19,
   "metadata": {},
   "outputs": [],
   "source": [
    "new_df = df.copy()"
   ]
  },
  {
   "cell_type": "code",
   "execution_count": 20,
   "metadata": {},
   "outputs": [
    {
     "name": "stderr",
     "output_type": "stream",
     "text": [
      "C:\\Users\\anany\\AppData\\Local\\Temp\\ipykernel_42496\\353552095.py:2: FutureWarning: Setting an item of incompatible dtype is deprecated and will raise in a future error of pandas. Value '<bound method Series.mean of 0      1802.0\n",
      "1       864.0\n",
      "2      1126.0\n",
      "3      2649.0\n",
      "4      1212.0\n",
      "        ...  \n",
      "262       NaN\n",
      "263       NaN\n",
      "264       NaN\n",
      "265       NaN\n",
      "266       NaN\n",
      "Name: Review Count, Length: 267, dtype: float64>' has dtype incompatible with float64, please explicitly cast to a compatible dtype first.\n",
      "  new_df['Review Count'].fillna(new_df['Review Count'].mean, inplace=True)\n"
     ]
    }
   ],
   "source": [
    "new_df['Rating'].fillna(new_df['Rating'].mean(), inplace=True)\n",
    "new_df['Review Count'].fillna(new_df['Review Count'].mean, inplace=True)\n",
    "new_df['Prerequisites'].fillna(\"No Prerequisites Required\",inplace=True)\n",
    "new_df['Affiliates'].fillna(\"None\",inplace=True)\n",
    "new_df['Level'].fillna(\"beginner\",inplace=True)"
   ]
  },
  {
   "cell_type": "code",
   "execution_count": 21,
   "metadata": {},
   "outputs": [
    {
     "data": {
      "text/plain": [
       "Title             0\n",
       "Type              0\n",
       "Description       6\n",
       "Level             0\n",
       "Duration          4\n",
       "Rating            0\n",
       "Review Count      0\n",
       "Skills Covered    0\n",
       "Prerequisites     0\n",
       "Affiliates        0\n",
       "URL               0\n",
       "dtype: int64"
      ]
     },
     "execution_count": 21,
     "metadata": {},
     "output_type": "execute_result"
    }
   ],
   "source": [
    "new_df.isnull().sum()"
   ]
  },
  {
   "cell_type": "code",
   "execution_count": 22,
   "metadata": {},
   "outputs": [
    {
     "data": {
      "text/html": [
       "<div>\n",
       "<style scoped>\n",
       "    .dataframe tbody tr th:only-of-type {\n",
       "        vertical-align: middle;\n",
       "    }\n",
       "\n",
       "    .dataframe tbody tr th {\n",
       "        vertical-align: top;\n",
       "    }\n",
       "\n",
       "    .dataframe thead th {\n",
       "        text-align: right;\n",
       "    }\n",
       "</style>\n",
       "<table border=\"1\" class=\"dataframe\">\n",
       "  <thead>\n",
       "    <tr style=\"text-align: right;\">\n",
       "      <th></th>\n",
       "      <th>Title</th>\n",
       "      <th>Type</th>\n",
       "      <th>Description</th>\n",
       "      <th>Level</th>\n",
       "      <th>Duration</th>\n",
       "      <th>Rating</th>\n",
       "      <th>Review Count</th>\n",
       "      <th>Skills Covered</th>\n",
       "      <th>Prerequisites</th>\n",
       "      <th>Affiliates</th>\n",
       "      <th>URL</th>\n",
       "    </tr>\n",
       "  </thead>\n",
       "  <tbody>\n",
       "    <tr>\n",
       "      <th>0</th>\n",
       "      <td>Data Engineering with AWS</td>\n",
       "      <td>nanodegree</td>\n",
       "      <td>Learn to design data models, build data wareho...</td>\n",
       "      <td>intermediate</td>\n",
       "      <td>4 Months</td>\n",
       "      <td>4.6</td>\n",
       "      <td>1802.0</td>\n",
       "      <td>AWS Glue,  Amazon S3,  AWS Data Warehouse,  Re...</td>\n",
       "      <td>Intermediate Python, intermediate SQL &amp; comman...</td>\n",
       "      <td>None</td>\n",
       "      <td>https://www.udacity.com/course/data-engineer-n...</td>\n",
       "    </tr>\n",
       "    <tr>\n",
       "      <th>1</th>\n",
       "      <td>Product Manager</td>\n",
       "      <td>nanodegree</td>\n",
       "      <td>Envision and execute the development of indust...</td>\n",
       "      <td>beginner</td>\n",
       "      <td>4 Months</td>\n",
       "      <td>4.7</td>\n",
       "      <td>864.0</td>\n",
       "      <td>Product Strategy, Product Design, Product Deve...</td>\n",
       "      <td>No Experience Required</td>\n",
       "      <td>None</td>\n",
       "      <td>https://www.udacity.com/course/product-manager...</td>\n",
       "    </tr>\n",
       "    <tr>\n",
       "      <th>2</th>\n",
       "      <td>C++</td>\n",
       "      <td>nanodegree</td>\n",
       "      <td>Get hands-on experience building five real-wor...</td>\n",
       "      <td>intermediate</td>\n",
       "      <td>4 Months</td>\n",
       "      <td>4.5</td>\n",
       "      <td>1126.0</td>\n",
       "      <td>Data Structures &amp; Algorithms, Memory Managemen...</td>\n",
       "      <td>Intermediate Programming</td>\n",
       "      <td>None</td>\n",
       "      <td>https://www.udacity.com/course/c-plus-plus-nan...</td>\n",
       "    </tr>\n",
       "    <tr>\n",
       "      <th>3</th>\n",
       "      <td>Business Analytics</td>\n",
       "      <td>nanodegree</td>\n",
       "      <td>Gain foundational data skills like analyzing d...</td>\n",
       "      <td>beginner</td>\n",
       "      <td>3 Months</td>\n",
       "      <td>4.8</td>\n",
       "      <td>2649.0</td>\n",
       "      <td>Excel &amp; Spreadsheets, SQL, Data Visualization,...</td>\n",
       "      <td>No Prerequisites Required</td>\n",
       "      <td>Mode</td>\n",
       "      <td>https://www.udacity.com/course/business-analyt...</td>\n",
       "    </tr>\n",
       "    <tr>\n",
       "      <th>4</th>\n",
       "      <td>Data Scientist</td>\n",
       "      <td>nanodegree</td>\n",
       "      <td>Build effective machine learning models, run d...</td>\n",
       "      <td>advanced</td>\n",
       "      <td>4 Months</td>\n",
       "      <td>4.7</td>\n",
       "      <td>1212.0</td>\n",
       "      <td>Machine Learning, Deep Learning, Software Engi...</td>\n",
       "      <td>Python, SQL &amp; Statistics</td>\n",
       "      <td>Bertelsmann, Figure Eight, IBM Watson, Insight...</td>\n",
       "      <td>https://www.udacity.com/course/data-scientist-...</td>\n",
       "    </tr>\n",
       "  </tbody>\n",
       "</table>\n",
       "</div>"
      ],
      "text/plain": [
       "                       Title        Type  \\\n",
       "0  Data Engineering with AWS  nanodegree   \n",
       "1            Product Manager  nanodegree   \n",
       "2                        C++  nanodegree   \n",
       "3         Business Analytics  nanodegree   \n",
       "4             Data Scientist  nanodegree   \n",
       "\n",
       "                                         Description         Level  Duration  \\\n",
       "0  Learn to design data models, build data wareho...  intermediate  4 Months   \n",
       "1  Envision and execute the development of indust...      beginner  4 Months   \n",
       "2  Get hands-on experience building five real-wor...  intermediate  4 Months   \n",
       "3  Gain foundational data skills like analyzing d...      beginner  3 Months   \n",
       "4  Build effective machine learning models, run d...      advanced  4 Months   \n",
       "\n",
       "   Rating Review Count                                     Skills Covered  \\\n",
       "0     4.6       1802.0  AWS Glue,  Amazon S3,  AWS Data Warehouse,  Re...   \n",
       "1     4.7        864.0  Product Strategy, Product Design, Product Deve...   \n",
       "2     4.5       1126.0  Data Structures & Algorithms, Memory Managemen...   \n",
       "3     4.8       2649.0  Excel & Spreadsheets, SQL, Data Visualization,...   \n",
       "4     4.7       1212.0  Machine Learning, Deep Learning, Software Engi...   \n",
       "\n",
       "                                       Prerequisites  \\\n",
       "0  Intermediate Python, intermediate SQL & comman...   \n",
       "1                             No Experience Required   \n",
       "2                           Intermediate Programming   \n",
       "3                          No Prerequisites Required   \n",
       "4                           Python, SQL & Statistics   \n",
       "\n",
       "                                          Affiliates  \\\n",
       "0                                               None   \n",
       "1                                               None   \n",
       "2                                               None   \n",
       "3                                               Mode   \n",
       "4  Bertelsmann, Figure Eight, IBM Watson, Insight...   \n",
       "\n",
       "                                                 URL  \n",
       "0  https://www.udacity.com/course/data-engineer-n...  \n",
       "1  https://www.udacity.com/course/product-manager...  \n",
       "2  https://www.udacity.com/course/c-plus-plus-nan...  \n",
       "3  https://www.udacity.com/course/business-analyt...  \n",
       "4  https://www.udacity.com/course/data-scientist-...  "
      ]
     },
     "execution_count": 22,
     "metadata": {},
     "output_type": "execute_result"
    }
   ],
   "source": [
    "new_df.head()"
   ]
  },
  {
   "cell_type": "code",
   "execution_count": 23,
   "metadata": {},
   "outputs": [
    {
     "data": {
      "text/html": [
       "<div>\n",
       "<style scoped>\n",
       "    .dataframe tbody tr th:only-of-type {\n",
       "        vertical-align: middle;\n",
       "    }\n",
       "\n",
       "    .dataframe tbody tr th {\n",
       "        vertical-align: top;\n",
       "    }\n",
       "\n",
       "    .dataframe thead th {\n",
       "        text-align: right;\n",
       "    }\n",
       "</style>\n",
       "<table border=\"1\" class=\"dataframe\">\n",
       "  <thead>\n",
       "    <tr style=\"text-align: right;\">\n",
       "      <th></th>\n",
       "      <th>Title</th>\n",
       "      <th>Level</th>\n",
       "      <th>Rating</th>\n",
       "      <th>Skills Covered</th>\n",
       "    </tr>\n",
       "  </thead>\n",
       "  <tbody>\n",
       "    <tr>\n",
       "      <th>0</th>\n",
       "      <td>Data Engineering with AWS</td>\n",
       "      <td>intermediate</td>\n",
       "      <td>4.6</td>\n",
       "      <td>AWS Glue,  Amazon S3,  AWS Data Warehouse,  Re...</td>\n",
       "    </tr>\n",
       "    <tr>\n",
       "      <th>1</th>\n",
       "      <td>Product Manager</td>\n",
       "      <td>beginner</td>\n",
       "      <td>4.7</td>\n",
       "      <td>Product Strategy, Product Design, Product Deve...</td>\n",
       "    </tr>\n",
       "    <tr>\n",
       "      <th>2</th>\n",
       "      <td>C++</td>\n",
       "      <td>intermediate</td>\n",
       "      <td>4.5</td>\n",
       "      <td>Data Structures &amp; Algorithms, Memory Managemen...</td>\n",
       "    </tr>\n",
       "    <tr>\n",
       "      <th>3</th>\n",
       "      <td>Business Analytics</td>\n",
       "      <td>beginner</td>\n",
       "      <td>4.8</td>\n",
       "      <td>Excel &amp; Spreadsheets, SQL, Data Visualization,...</td>\n",
       "    </tr>\n",
       "    <tr>\n",
       "      <th>4</th>\n",
       "      <td>Data Scientist</td>\n",
       "      <td>advanced</td>\n",
       "      <td>4.7</td>\n",
       "      <td>Machine Learning, Deep Learning, Software Engi...</td>\n",
       "    </tr>\n",
       "  </tbody>\n",
       "</table>\n",
       "</div>"
      ],
      "text/plain": [
       "                       Title         Level  Rating  \\\n",
       "0  Data Engineering with AWS  intermediate     4.6   \n",
       "1            Product Manager      beginner     4.7   \n",
       "2                        C++  intermediate     4.5   \n",
       "3         Business Analytics      beginner     4.8   \n",
       "4             Data Scientist      advanced     4.7   \n",
       "\n",
       "                                      Skills Covered  \n",
       "0  AWS Glue,  Amazon S3,  AWS Data Warehouse,  Re...  \n",
       "1  Product Strategy, Product Design, Product Deve...  \n",
       "2  Data Structures & Algorithms, Memory Managemen...  \n",
       "3  Excel & Spreadsheets, SQL, Data Visualization,...  \n",
       "4  Machine Learning, Deep Learning, Software Engi...  "
      ]
     },
     "execution_count": 23,
     "metadata": {},
     "output_type": "execute_result"
    }
   ],
   "source": [
    "new_df_2 = new_df[['Title','Level','Rating','Skills Covered']]\n",
    "new_df_2.head()"
   ]
  },
  {
   "cell_type": "code",
   "execution_count": 24,
   "metadata": {},
   "outputs": [],
   "source": [
    "vectorizer = TfidfVectorizer()\n",
    "df_vector = vectorizer.fit_transform(new_df_2)"
   ]
  },
  {
   "cell_type": "code",
   "execution_count": 25,
   "metadata": {},
   "outputs": [],
   "source": [
    "similarity = cosine_similarity(df_vector)"
   ]
  },
  {
   "cell_type": "code",
   "execution_count": 26,
   "metadata": {},
   "outputs": [],
   "source": [
    "def recommend(user_preferences, new_df_2):\n",
    "  new_df_2['features'] = new_df_2['Title'] + ' ' +  new_df_2['Level'] + ' ' +  new_df_2['Rating']\n",
    "\n",
    "  vectorizer = TfidfVectorizer(stop_words='english')\n",
    "  course_matrix = vectorizer.fit_transform(new_df_2['features'])\n",
    "\n",
    "  cosine_similarities = linear_kernel(course_matrix, course_matrix)\n",
    "\n",
    "  user_course_index = new_df_2[new_df_2['Title'] == user_preferences].index[0]\n",
    "\n",
    "  similarity_scores = list(enumerate(cosine_similarities[user_course_index]))\n",
    "\n",
    "  sorted_courses = sorted(similarity_scores, key=lambda x: x[1], reverse=True)\n",
    "\n",
    "  top_n_recommendations = [(new_df_2.iloc[idx]['Title'], score) for idx, score in sorted_courses[1:]]\n",
    "\n",
    "  return top_n_recommendations"
   ]
  },
  {
   "cell_type": "code",
   "execution_count": 27,
   "metadata": {},
   "outputs": [
    {
     "ename": "TypeError",
     "evalue": "FastAPI.get() missing 1 required positional argument: 'path'",
     "output_type": "error",
     "traceback": [
      "\u001b[1;31m---------------------------------------------------------------------------\u001b[0m",
      "\u001b[1;31mTypeError\u001b[0m                                 Traceback (most recent call last)",
      "\u001b[1;32mc:\\Users\\anany\\Desktop\\Group Task\\index.ipynb Cell 12\u001b[0m line \u001b[0;36m1\n\u001b[1;32m----> <a href='vscode-notebook-cell:/c%3A/Users/anany/Desktop/Group%20Task/index.ipynb#X13sZmlsZQ%3D%3D?line=0'>1</a>\u001b[0m \u001b[39m@app\u001b[39m\u001b[39m.\u001b[39;49mget(\u001b[39m\"\u001b[39;49m\u001b[39m/recommendations/\u001b[39;49m\u001b[39m{user_preferences}\u001b[39;49;00m\u001b[39m\"\u001b[39;49m)\n\u001b[0;32m      <a href='vscode-notebook-cell:/c%3A/Users/anany/Desktop/Group%20Task/index.ipynb#X13sZmlsZQ%3D%3D?line=1'>2</a>\u001b[0m \u001b[39masync\u001b[39;00m \u001b[39mdef\u001b[39;00m \u001b[39mread_recommendations\u001b[39m(user_preferences: \u001b[39mstr\u001b[39m):\n\u001b[0;32m      <a href='vscode-notebook-cell:/c%3A/Users/anany/Desktop/Group%20Task/index.ipynb#X13sZmlsZQ%3D%3D?line=2'>3</a>\u001b[0m     recommendations \u001b[39m=\u001b[39m recommend(user_preferences, new_df_2)\n\u001b[0;32m      <a href='vscode-notebook-cell:/c%3A/Users/anany/Desktop/Group%20Task/index.ipynb#X13sZmlsZQ%3D%3D?line=4'>5</a>\u001b[0m     formatted_recommendations \u001b[39m=\u001b[39m [{\u001b[39m\"\u001b[39m\u001b[39mcourse\u001b[39m\u001b[39m\"\u001b[39m: course, \u001b[39m\"\u001b[39m\u001b[39msimilarity_score\u001b[39m\u001b[39m\"\u001b[39m: score} \u001b[39mfor\u001b[39;00m course, score \u001b[39min\u001b[39;00m recommendations]\n",
      "\u001b[1;31mTypeError\u001b[0m: FastAPI.get() missing 1 required positional argument: 'path'"
     ]
    }
   ],
   "source": [
    "@app.get(\"/recommendations/{user_preferences}\")\n",
    "async def read_recommendations(user_preferences: str):\n",
    "    recommendations = recommend(user_preferences, new_df_2)\n",
    "    formatted_recommendations = [{\"course\": course, \"similarity_score\": score} for course, score in recommendations]\n",
    "    return {\"user_preferences\": user_preferences, \"recommendations\": formatted_recommendations}\n",
    "\n",
    "if __name__ == \"__main__\":\n",
    "    import uvicorn\n",
    "    uvicorn.run(app, host=\"127.0.0.1\", port=8000)\n",
    "    \n"
   ]
  },
  {
   "cell_type": "markdown",
   "metadata": {},
   "source": []
  }
 ],
 "metadata": {
  "kernelspec": {
   "display_name": "Python 3",
   "language": "python",
   "name": "python3"
  },
  "language_info": {
   "codemirror_mode": {
    "name": "ipython",
    "version": 3
   },
   "file_extension": ".py",
   "mimetype": "text/x-python",
   "name": "python",
   "nbconvert_exporter": "python",
   "pygments_lexer": "ipython3",
   "version": "3.12.0"
  }
 },
 "nbformat": 4,
 "nbformat_minor": 2
}
